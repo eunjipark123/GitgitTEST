{
 "cells": [
  {
   "cell_type": "code",
   "execution_count": 5,
   "id": "7f01a9a2",
   "metadata": {},
   "outputs": [],
   "source": [
    "import pandas as pd \n",
    "import matplotlib.pyplot as plt\n",
    "di = pd.read_excel('diff_intercept.xlsx')"
   ]
  },
  {
   "cell_type": "code",
   "execution_count": 3,
   "id": "52637c9a",
   "metadata": {},
   "outputs": [
    {
     "data": {
      "text/html": [
       "<table class=\"simpletable\">\n",
       "<caption>OLS Regression Results</caption>\n",
       "<tr>\n",
       "  <th>Dep. Variable:</th>            <td>y</td>        <th>  R-squared:         </th> <td>   0.975</td>\n",
       "</tr>\n",
       "<tr>\n",
       "  <th>Model:</th>                   <td>OLS</td>       <th>  Adj. R-squared:    </th> <td>   0.974</td>\n",
       "</tr>\n",
       "<tr>\n",
       "  <th>Method:</th>             <td>Least Squares</td>  <th>  F-statistic:       </th> <td>   1859.</td>\n",
       "</tr>\n",
       "<tr>\n",
       "  <th>Date:</th>             <td>Fri, 27 Aug 2021</td> <th>  Prob (F-statistic):</th> <td>4.53e-78</td>\n",
       "</tr>\n",
       "<tr>\n",
       "  <th>Time:</th>                 <td>16:20:13</td>     <th>  Log-Likelihood:    </th> <td> -139.75</td>\n",
       "</tr>\n",
       "<tr>\n",
       "  <th>No. Observations:</th>      <td>   100</td>      <th>  AIC:               </th> <td>   285.5</td>\n",
       "</tr>\n",
       "<tr>\n",
       "  <th>Df Residuals:</th>          <td>    97</td>      <th>  BIC:               </th> <td>   293.3</td>\n",
       "</tr>\n",
       "<tr>\n",
       "  <th>Df Model:</th>              <td>     2</td>      <th>                     </th>     <td> </td>   \n",
       "</tr>\n",
       "<tr>\n",
       "  <th>Covariance Type:</th>      <td>nonrobust</td>    <th>                     </th>     <td> </td>   \n",
       "</tr>\n",
       "</table>\n",
       "<table class=\"simpletable\">\n",
       "<tr>\n",
       "      <td></td>         <th>coef</th>     <th>std err</th>      <th>t</th>      <th>P>|t|</th>  <th>[0.025</th>    <th>0.975]</th>  \n",
       "</tr>\n",
       "<tr>\n",
       "  <th>Intercept</th> <td>    0.3857</td> <td>    0.370</td> <td>    1.042</td> <td> 0.300</td> <td>   -0.349</td> <td>    1.120</td>\n",
       "</tr>\n",
       "<tr>\n",
       "  <th>x</th>         <td>    1.9659</td> <td>    0.032</td> <td>   60.798</td> <td> 0.000</td> <td>    1.902</td> <td>    2.030</td>\n",
       "</tr>\n",
       "<tr>\n",
       "  <th>m</th>         <td>    2.8389</td> <td>    0.201</td> <td>   14.107</td> <td> 0.000</td> <td>    2.439</td> <td>    3.238</td>\n",
       "</tr>\n",
       "</table>\n",
       "<table class=\"simpletable\">\n",
       "<tr>\n",
       "  <th>Omnibus:</th>       <td> 2.130</td> <th>  Durbin-Watson:     </th> <td>   2.043</td>\n",
       "</tr>\n",
       "<tr>\n",
       "  <th>Prob(Omnibus):</th> <td> 0.345</td> <th>  Jarque-Bera (JB):  </th> <td>   1.613</td>\n",
       "</tr>\n",
       "<tr>\n",
       "  <th>Skew:</th>          <td>-0.146</td> <th>  Prob(JB):          </th> <td>   0.446</td>\n",
       "</tr>\n",
       "<tr>\n",
       "  <th>Kurtosis:</th>      <td> 3.549</td> <th>  Cond. No.          </th> <td>    40.9</td>\n",
       "</tr>\n",
       "</table><br/><br/>Notes:<br/>[1] Standard Errors assume that the covariance matrix of the errors is correctly specified."
      ],
      "text/plain": [
       "<class 'statsmodels.iolib.summary.Summary'>\n",
       "\"\"\"\n",
       "                            OLS Regression Results                            \n",
       "==============================================================================\n",
       "Dep. Variable:                      y   R-squared:                       0.975\n",
       "Model:                            OLS   Adj. R-squared:                  0.974\n",
       "Method:                 Least Squares   F-statistic:                     1859.\n",
       "Date:                Fri, 27 Aug 2021   Prob (F-statistic):           4.53e-78\n",
       "Time:                        16:20:13   Log-Likelihood:                -139.75\n",
       "No. Observations:                 100   AIC:                             285.5\n",
       "Df Residuals:                      97   BIC:                             293.3\n",
       "Df Model:                           2                                         \n",
       "Covariance Type:            nonrobust                                         \n",
       "==============================================================================\n",
       "                 coef    std err          t      P>|t|      [0.025      0.975]\n",
       "------------------------------------------------------------------------------\n",
       "Intercept      0.3857      0.370      1.042      0.300      -0.349       1.120\n",
       "x              1.9659      0.032     60.798      0.000       1.902       2.030\n",
       "m              2.8389      0.201     14.107      0.000       2.439       3.238\n",
       "==============================================================================\n",
       "Omnibus:                        2.130   Durbin-Watson:                   2.043\n",
       "Prob(Omnibus):                  0.345   Jarque-Bera (JB):                1.613\n",
       "Skew:                          -0.146   Prob(JB):                        0.446\n",
       "Kurtosis:                       3.549   Cond. No.                         40.9\n",
       "==============================================================================\n",
       "\n",
       "Notes:\n",
       "[1] Standard Errors assume that the covariance matrix of the errors is correctly specified.\n",
       "\"\"\""
      ]
     },
     "execution_count": 3,
     "metadata": {},
     "output_type": "execute_result"
    }
   ],
   "source": [
    "from statsmodels.formula.api import ols\n",
    "ols('y ~ x + m', di).fit().summary()"
   ]
  },
  {
   "cell_type": "markdown",
   "id": "4ee1b19f",
   "metadata": {},
   "source": [
    "1.96 * x + 2.83 m + 0.38 \n",
    "1.96 * x          + 0.38\n",
    "1.96 * x          + 3.2 (?) "
   ]
  },
  {
   "cell_type": "code",
   "execution_count": 9,
   "id": "e0b1d655",
   "metadata": {},
   "outputs": [
    {
     "data": {
      "text/plain": [
       "[<matplotlib.lines.Line2D at 0x7fd2e0f6e7f0>]"
      ]
     },
     "execution_count": 9,
     "metadata": {},
     "output_type": "execute_result"
    },
    {
     "data": {
      "image/png": "[encoded data removed]",
      "text/plain": [
       "<Figure size 432x288 with 1 Axes>"
      ]
     },
     "metadata": {
      "needs_background": "light"
     },
     "output_type": "display_data"
    }
   ],
   "source": [
    "plt.plot(di.x[di.m == 0], di.y[di.m==0], 'ro')\n",
    "plt.plot(di.x[di.m == 1], di.y[di.m==1], 'bo')"
   ]
  },
  {
   "cell_type": "markdown",
   "id": "dbfebcea",
   "metadata": {},
   "source": [
    "y ~ x + x:m\n",
    "y = ax + bxm + c \n",
    "y = (a+b)x + c \n",
    "y = ax + c"
   ]
  },
  {
   "cell_type": "markdown",
   "id": "4dbad44f",
   "metadata": {},
   "source": [
    "### 문제2"
   ]
  },
  {
   "cell_type": "code",
   "execution_count": 12,
   "id": "0ff8f060",
   "metadata": {},
   "outputs": [
    {
     "data": {
      "text/html": [
       "<div>\n",
       "<style scoped>\n",
       "    .dataframe tbody tr th:only-of-type {\n",
       "        vertical-align: middle;\n",
       "    }\n",
       "\n",
       "    .dataframe tbody tr th {\n",
       "        vertical-align: top;\n",
       "    }\n",
       "\n",
       "    .dataframe thead th {\n",
       "        text-align: right;\n",
       "    }\n",
       "</style>\n",
       "<table border=\"1\" class=\"dataframe\">\n",
       "  <thead>\n",
       "    <tr style=\"text-align: right;\">\n",
       "      <th></th>\n",
       "      <th>x</th>\n",
       "      <th>m</th>\n",
       "      <th>y</th>\n",
       "    </tr>\n",
       "  </thead>\n",
       "  <tbody>\n",
       "    <tr>\n",
       "      <th>0</th>\n",
       "      <td>11.318909</td>\n",
       "      <td>0</td>\n",
       "      <td>21.331662</td>\n",
       "    </tr>\n",
       "    <tr>\n",
       "      <th>1</th>\n",
       "      <td>13.811848</td>\n",
       "      <td>0</td>\n",
       "      <td>26.609185</td>\n",
       "    </tr>\n",
       "  </tbody>\n",
       "</table>\n",
       "</div>"
      ],
      "text/plain": [
       "           x  m          y\n",
       "0  11.318909  0  21.331662\n",
       "1  13.811848  0  26.609185"
      ]
     },
     "execution_count": 12,
     "metadata": {},
     "output_type": "execute_result"
    }
   ],
   "source": [
    "slope = pd.read_excel('diff_slope.xlsx')\n",
    "slope.head(2)"
   ]
  },
  {
   "cell_type": "code",
   "execution_count": 13,
   "id": "72bf426e",
   "metadata": {},
   "outputs": [
    {
     "data": {
      "text/html": [
       "<table class=\"simpletable\">\n",
       "<caption>OLS Regression Results</caption>\n",
       "<tr>\n",
       "  <th>Dep. Variable:</th>            <td>y</td>        <th>  R-squared:         </th> <td>   0.974</td>\n",
       "</tr>\n",
       "<tr>\n",
       "  <th>Model:</th>                   <td>OLS</td>       <th>  Adj. R-squared:    </th> <td>   0.973</td>\n",
       "</tr>\n",
       "<tr>\n",
       "  <th>Method:</th>             <td>Least Squares</td>  <th>  F-statistic:       </th> <td>   1800.</td>\n",
       "</tr>\n",
       "<tr>\n",
       "  <th>Date:</th>             <td>Fri, 27 Aug 2021</td> <th>  Prob (F-statistic):</th> <td>2.08e-77</td>\n",
       "</tr>\n",
       "<tr>\n",
       "  <th>Time:</th>                 <td>16:52:10</td>     <th>  Log-Likelihood:    </th> <td> -155.10</td>\n",
       "</tr>\n",
       "<tr>\n",
       "  <th>No. Observations:</th>      <td>   100</td>      <th>  AIC:               </th> <td>   316.2</td>\n",
       "</tr>\n",
       "<tr>\n",
       "  <th>Df Residuals:</th>          <td>    97</td>      <th>  BIC:               </th> <td>   324.0</td>\n",
       "</tr>\n",
       "<tr>\n",
       "  <th>Df Model:</th>              <td>     2</td>      <th>                     </th>     <td> </td>   \n",
       "</tr>\n",
       "<tr>\n",
       "  <th>Covariance Type:</th>      <td>nonrobust</td>    <th>                     </th>     <td> </td>   \n",
       "</tr>\n",
       "</table>\n",
       "<table class=\"simpletable\">\n",
       "<tr>\n",
       "      <td></td>         <th>coef</th>     <th>std err</th>      <th>t</th>      <th>P>|t|</th>  <th>[0.025</th>    <th>0.975]</th>  \n",
       "</tr>\n",
       "<tr>\n",
       "  <th>Intercept</th> <td>    0.0352</td> <td>    0.402</td> <td>    0.088</td> <td> 0.930</td> <td>   -0.762</td> <td>    0.832</td>\n",
       "</tr>\n",
       "<tr>\n",
       "  <th>x</th>         <td>    2.0266</td> <td>    0.037</td> <td>   54.283</td> <td> 0.000</td> <td>    1.952</td> <td>    2.101</td>\n",
       "</tr>\n",
       "<tr>\n",
       "  <th>x:m</th>       <td>    0.4842</td> <td>    0.023</td> <td>   21.507</td> <td> 0.000</td> <td>    0.439</td> <td>    0.529</td>\n",
       "</tr>\n",
       "</table>\n",
       "<table class=\"simpletable\">\n",
       "<tr>\n",
       "  <th>Omnibus:</th>       <td> 1.674</td> <th>  Durbin-Watson:     </th> <td>   2.121</td>\n",
       "</tr>\n",
       "<tr>\n",
       "  <th>Prob(Omnibus):</th> <td> 0.433</td> <th>  Jarque-Bera (JB):  </th> <td>   1.116</td>\n",
       "</tr>\n",
       "<tr>\n",
       "  <th>Skew:</th>          <td>-0.163</td> <th>  Prob(JB):          </th> <td>   0.572</td>\n",
       "</tr>\n",
       "<tr>\n",
       "  <th>Kurtosis:</th>      <td> 3.402</td> <th>  Cond. No.          </th> <td>    41.2</td>\n",
       "</tr>\n",
       "</table><br/><br/>Notes:<br/>[1] Standard Errors assume that the covariance matrix of the errors is correctly specified."
      ],
      "text/plain": [
       "<class 'statsmodels.iolib.summary.Summary'>\n",
       "\"\"\"\n",
       "                            OLS Regression Results                            \n",
       "==============================================================================\n",
       "Dep. Variable:                      y   R-squared:                       0.974\n",
       "Model:                            OLS   Adj. R-squared:                  0.973\n",
       "Method:                 Least Squares   F-statistic:                     1800.\n",
       "Date:                Fri, 27 Aug 2021   Prob (F-statistic):           2.08e-77\n",
       "Time:                        16:52:10   Log-Likelihood:                -155.10\n",
       "No. Observations:                 100   AIC:                             316.2\n",
       "Df Residuals:                      97   BIC:                             324.0\n",
       "Df Model:                           2                                         \n",
       "Covariance Type:            nonrobust                                         \n",
       "==============================================================================\n",
       "                 coef    std err          t      P>|t|      [0.025      0.975]\n",
       "------------------------------------------------------------------------------\n",
       "Intercept      0.0352      0.402      0.088      0.930      -0.762       0.832\n",
       "x              2.0266      0.037     54.283      0.000       1.952       2.101\n",
       "x:m            0.4842      0.023     21.507      0.000       0.439       0.529\n",
       "==============================================================================\n",
       "Omnibus:                        1.674   Durbin-Watson:                   2.121\n",
       "Prob(Omnibus):                  0.433   Jarque-Bera (JB):                1.116\n",
       "Skew:                          -0.163   Prob(JB):                        0.572\n",
       "Kurtosis:                       3.402   Cond. No.                         41.2\n",
       "==============================================================================\n",
       "\n",
       "Notes:\n",
       "[1] Standard Errors assume that the covariance matrix of the errors is correctly specified.\n",
       "\"\"\""
      ]
     },
     "execution_count": 13,
     "metadata": {},
     "output_type": "execute_result"
    }
   ],
   "source": [
    "ols('y ~ x + x:m', slope).fit().summary()"
   ]
  },
  {
   "cell_type": "markdown",
   "id": "6c0f5d3d",
   "metadata": {},
   "source": [
    "y = x + m + xm \n",
    "#기울기와 절편이 모두 달라지는 경우"
   ]
  },
  {
   "cell_type": "markdown",
   "id": "c4dcb907",
   "metadata": {},
   "source": [
    "y = ax + bm + cxm + d\n",
    "- y = ax + d \n",
    "- y = (a+c)x + (b+d)"
   ]
  },
  {
   "cell_type": "code",
   "execution_count": 15,
   "id": "a7af45e7",
   "metadata": {},
   "outputs": [
    {
     "data": {
      "text/html": [
       "<table class=\"simpletable\">\n",
       "<caption>OLS Regression Results</caption>\n",
       "<tr>\n",
       "  <th>Dep. Variable:</th>            <td>y</td>        <th>  R-squared:         </th> <td>   0.979</td>\n",
       "</tr>\n",
       "<tr>\n",
       "  <th>Model:</th>                   <td>OLS</td>       <th>  Adj. R-squared:    </th> <td>   0.978</td>\n",
       "</tr>\n",
       "<tr>\n",
       "  <th>Method:</th>             <td>Least Squares</td>  <th>  F-statistic:       </th> <td>   1474.</td>\n",
       "</tr>\n",
       "<tr>\n",
       "  <th>Date:</th>             <td>Fri, 27 Aug 2021</td> <th>  Prob (F-statistic):</th> <td>4.04e-80</td>\n",
       "</tr>\n",
       "<tr>\n",
       "  <th>Time:</th>                 <td>17:15:59</td>     <th>  Log-Likelihood:    </th> <td> -150.98</td>\n",
       "</tr>\n",
       "<tr>\n",
       "  <th>No. Observations:</th>      <td>   100</td>      <th>  AIC:               </th> <td>   310.0</td>\n",
       "</tr>\n",
       "<tr>\n",
       "  <th>Df Residuals:</th>          <td>    96</td>      <th>  BIC:               </th> <td>   320.4</td>\n",
       "</tr>\n",
       "<tr>\n",
       "  <th>Df Model:</th>              <td>     3</td>      <th>                     </th>     <td> </td>   \n",
       "</tr>\n",
       "<tr>\n",
       "  <th>Covariance Type:</th>      <td>nonrobust</td>    <th>                     </th>     <td> </td>   \n",
       "</tr>\n",
       "</table>\n",
       "<table class=\"simpletable\">\n",
       "<tr>\n",
       "      <td></td>         <th>coef</th>     <th>std err</th>      <th>t</th>      <th>P>|t|</th>  <th>[0.025</th>    <th>0.975]</th>  \n",
       "</tr>\n",
       "<tr>\n",
       "  <th>Intercept</th> <td>   -0.2975</td> <td>    0.511</td> <td>   -0.582</td> <td> 0.562</td> <td>   -1.313</td> <td>    0.718</td>\n",
       "</tr>\n",
       "<tr>\n",
       "  <th>x</th>         <td>    2.0403</td> <td>    0.046</td> <td>   44.428</td> <td> 0.000</td> <td>    1.949</td> <td>    2.132</td>\n",
       "</tr>\n",
       "<tr>\n",
       "  <th>x:m</th>       <td>    0.5091</td> <td>    0.075</td> <td>    6.770</td> <td> 0.000</td> <td>    0.360</td> <td>    0.658</td>\n",
       "</tr>\n",
       "<tr>\n",
       "  <th>m</th>         <td>    2.6380</td> <td>    0.784</td> <td>    3.366</td> <td> 0.001</td> <td>    1.082</td> <td>    4.194</td>\n",
       "</tr>\n",
       "</table>\n",
       "<table class=\"simpletable\">\n",
       "<tr>\n",
       "  <th>Omnibus:</th>       <td> 0.076</td> <th>  Durbin-Watson:     </th> <td>   2.155</td>\n",
       "</tr>\n",
       "<tr>\n",
       "  <th>Prob(Omnibus):</th> <td> 0.963</td> <th>  Jarque-Bera (JB):  </th> <td>   0.246</td>\n",
       "</tr>\n",
       "<tr>\n",
       "  <th>Skew:</th>          <td>-0.002</td> <th>  Prob(JB):          </th> <td>   0.884</td>\n",
       "</tr>\n",
       "<tr>\n",
       "  <th>Kurtosis:</th>      <td> 2.757</td> <th>  Cond. No.          </th> <td>    92.4</td>\n",
       "</tr>\n",
       "</table><br/><br/>Notes:<br/>[1] Standard Errors assume that the covariance matrix of the errors is correctly specified."
      ],
      "text/plain": [
       "<class 'statsmodels.iolib.summary.Summary'>\n",
       "\"\"\"\n",
       "                            OLS Regression Results                            \n",
       "==============================================================================\n",
       "Dep. Variable:                      y   R-squared:                       0.979\n",
       "Model:                            OLS   Adj. R-squared:                  0.978\n",
       "Method:                 Least Squares   F-statistic:                     1474.\n",
       "Date:                Fri, 27 Aug 2021   Prob (F-statistic):           4.04e-80\n",
       "Time:                        17:15:59   Log-Likelihood:                -150.98\n",
       "No. Observations:                 100   AIC:                             310.0\n",
       "Df Residuals:                      96   BIC:                             320.4\n",
       "Df Model:                           3                                         \n",
       "Covariance Type:            nonrobust                                         \n",
       "==============================================================================\n",
       "                 coef    std err          t      P>|t|      [0.025      0.975]\n",
       "------------------------------------------------------------------------------\n",
       "Intercept     -0.2975      0.511     -0.582      0.562      -1.313       0.718\n",
       "x              2.0403      0.046     44.428      0.000       1.949       2.132\n",
       "x:m            0.5091      0.075      6.770      0.000       0.360       0.658\n",
       "m              2.6380      0.784      3.366      0.001       1.082       4.194\n",
       "==============================================================================\n",
       "Omnibus:                        0.076   Durbin-Watson:                   2.155\n",
       "Prob(Omnibus):                  0.963   Jarque-Bera (JB):                0.246\n",
       "Skew:                          -0.002   Prob(JB):                        0.884\n",
       "Kurtosis:                       2.757   Cond. No.                         92.4\n",
       "==============================================================================\n",
       "\n",
       "Notes:\n",
       "[1] Standard Errors assume that the covariance matrix of the errors is correctly specified.\n",
       "\"\"\""
      ]
     },
     "execution_count": 15,
     "metadata": {},
     "output_type": "execute_result"
    }
   ],
   "source": [
    "inter = pd.read_excel('interaction.xlsx')\n",
    "ols('y ~ x + x:m + m', inter).fit().summary()"
   ]
  },
  {
   "cell_type": "code",
   "execution_count": null,
   "id": "f4f3e303",
   "metadata": {},
   "outputs": [],
   "source": []
  }
 ],
 "metadata": {
  "kernelspec": {
   "display_name": "Python 3",
   "language": "python",
   "name": "python3"
  },
  "language_info": {
   "codemirror_mode": {
    "name": "ipython",
    "version": 3
   },
   "file_extension": ".py",
   "mimetype": "text/x-python",
   "name": "python",
   "nbconvert_exporter": "python",
   "pygments_lexer": "ipython3",
   "version": "3.8.8"
  }
 },
 "nbformat": 4,
 "nbformat_minor": 5
}
